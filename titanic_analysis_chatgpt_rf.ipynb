{
    "nb": {
        "nbformat": 4,
        "nbformat_minor": 5,
        "metadata": {},
        "cells": []
    },
    "cells": [
        {
            "id": "8df3993b",
            "cell_type": "markdown",
            "source": "# \ud83d\udef3\ufe0f \u0410\u043d\u0430\u043b\u0438\u0437 \u0434\u0430\u043d\u043d\u044b\u0445: Titanic \u0441 \u043f\u043e\u043c\u043e\u0449\u044c\u044e Python \u0438 Pandas",
            "metadata": {}
        },
        {
            "id": "ddbff046",
            "cell_type": "markdown",
            "source": "## \ud83d\udce5 \u0417\u0430\u0433\u0440\u0443\u0437\u043a\u0430 \u0438 \u043f\u0435\u0440\u0432\u0438\u0447\u043d\u044b\u0439 \u043f\u0440\u043e\u0441\u043c\u043e\u0442\u0440 \u0434\u0430\u043d\u043d\u044b\u0445",
            "metadata": {}
        },
        {
            "id": "bbe2de49",
            "cell_type": "code",
            "metadata": {},
            "execution_count": null,
            "source": "import seaborn as sns\nimport pandas as pd\n\ndf = sns.load_dataset('titanic')\ndf.head()",
            "outputs": []
        },
        {
            "id": "79dc2a80",
            "cell_type": "markdown",
            "source": "## \ud83e\uddf9 \u041f\u0440\u043e\u0432\u0435\u0440\u043a\u0430 \u0438 \u043e\u0431\u0440\u0430\u0431\u043e\u0442\u043a\u0430 \u043f\u0440\u043e\u043f\u0443\u0449\u0435\u043d\u043d\u044b\u0445 \u0437\u043d\u0430\u0447\u0435\u043d\u0438\u0439",
            "metadata": {}
        },
        {
            "id": "f5e7018e",
            "cell_type": "code",
            "metadata": {},
            "execution_count": null,
            "source": "df.isnull().sum()",
            "outputs": []
        },
        {
            "id": "c507a71b",
            "cell_type": "code",
            "metadata": {},
            "execution_count": null,
            "source": "df = df.dropna(subset=['age', 'embarked', 'sex'])",
            "outputs": []
        },
        {
            "id": "5f51d5b7",
            "cell_type": "markdown",
            "source": "## \ud83d\udd04 \u041a\u043e\u0434\u0438\u0440\u043e\u0432\u043a\u0430 \u043a\u0430\u0442\u0435\u0433\u043e\u0440\u0438\u0430\u043b\u044c\u043d\u044b\u0445 \u043f\u0440\u0438\u0437\u043d\u0430\u043a\u043e\u0432",
            "metadata": {}
        },
        {
            "id": "ac44fce6",
            "cell_type": "code",
            "metadata": {},
            "execution_count": null,
            "source": "from sklearn.preprocessing import LabelEncoder\n\ndf['sex'] = LabelEncoder().fit_transform(df['sex'])\ndf['embarked'] = LabelEncoder().fit_transform(df['embarked'])",
            "outputs": []
        },
        {
            "id": "53c59028",
            "cell_type": "markdown",
            "source": "## \ud83d\udcca \u0412\u0438\u0437\u0443\u0430\u043b\u0438\u0437\u0430\u0446\u0438\u044f: \u0440\u0430\u0441\u043f\u0440\u0435\u0434\u0435\u043b\u0435\u043d\u0438\u0435 \u0432\u043e\u0437\u0440\u0430\u0441\u0442\u0430 \u043f\u043e \u0432\u044b\u0436\u0438\u0432\u0430\u0435\u043c\u043e\u0441\u0442\u0438",
            "metadata": {}
        },
        {
            "id": "5aaabb33",
            "cell_type": "code",
            "metadata": {},
            "execution_count": null,
            "source": "import matplotlib.pyplot as plt\nimport seaborn as sns\n\nsns.histplot(data=df, x='age', hue='survived', kde=True)\nplt.title(\"\u0420\u0430\u0441\u043f\u0440\u0435\u0434\u0435\u043b\u0435\u043d\u0438\u0435 \u0432\u043e\u0437\u0440\u0430\u0441\u0442\u0430 \u043f\u043e \u0432\u044b\u0436\u0438\u0432\u0430\u0435\u043c\u043e\u0441\u0442\u0438\")\nplt.show()",
            "outputs": []
        },
        {
            "id": "85dbcddf",
            "cell_type": "markdown",
            "source": "## \ud83e\udd16 \u041c\u043e\u0434\u0435\u043b\u044c \u043b\u043e\u0433\u0438\u0441\u0442\u0438\u0447\u0435\u0441\u043a\u043e\u0439 \u0440\u0435\u0433\u0440\u0435\u0441\u0441\u0438\u0438",
            "metadata": {}
        },
        {
            "id": "517502c5",
            "cell_type": "code",
            "metadata": {},
            "execution_count": null,
            "source": "from sklearn.linear_model import LogisticRegression\nfrom sklearn.model_selection import train_test_split\nfrom sklearn.metrics import accuracy_score, confusion_matrix, ConfusionMatrixDisplay\n\nX = df[['age', 'fare', 'sex', 'pclass', 'embarked']]\ny = df['survived']\n\nX_train, X_test, y_train, y_test = train_test_split(X, y, test_size=0.2, random_state=42)\n\nmodel = LogisticRegression(max_iter=1000)\nmodel.fit(X_train, y_train)\n\ny_pred = model.predict(X_test)\nprint(\"Accuracy:\", accuracy_score(y_test, y_pred))",
            "outputs": []
        },
        {
            "id": "66e428cf",
            "cell_type": "markdown",
            "source": "## \ud83d\udcc9 \u041c\u0430\u0442\u0440\u0438\u0446\u0430 \u043e\u0448\u0438\u0431\u043e\u043a (Confusion Matrix)",
            "metadata": {}
        },
        {
            "id": "754ebaca",
            "cell_type": "code",
            "metadata": {},
            "execution_count": null,
            "source": "cm = confusion_matrix(y_test, y_pred)\ndisp = ConfusionMatrixDisplay(confusion_matrix=cm, display_labels=model.classes_)\ndisp.plot()\nplt.title(\"\u041c\u0430\u0442\u0440\u0438\u0446\u0430 \u043e\u0448\u0438\u0431\u043e\u043a\")\nplt.show()",
            "outputs": []
        },
        {
            "id": "4c2ba4a6",
            "cell_type": "markdown",
            "source": "## \ud83e\udde0 \u0412\u044b\u0432\u043e\u0434\u044b\n- \u041a\u043e\u044d\u0444\u0444\u0438\u0446\u0438\u0435\u043d\u0442\u044b \u043c\u043e\u0434\u0435\u043b\u0438 \u043f\u043e\u043a\u0430\u0437\u044b\u0432\u0430\u044e\u0442 \u0432\u043a\u043b\u0430\u0434 \u043f\u0440\u0438\u0437\u043d\u0430\u043a\u043e\u0432 \u0432 \u0432\u0435\u0440\u043e\u044f\u0442\u043d\u043e\u0441\u0442\u044c \u0432\u044b\u0436\u0438\u0432\u0430\u043d\u0438\u044f.\n- \u041f\u043e\u043b (sex) \u0438 \u043a\u043b\u0430\u0441\u0441 (pclass) \u043e\u043a\u0430\u0437\u044b\u0432\u0430\u044e\u0442 \u0437\u043d\u0430\u0447\u0438\u0442\u0435\u043b\u044c\u043d\u043e\u0435 \u0432\u043b\u0438\u044f\u043d\u0438\u0435.\n- \u041c\u043e\u0436\u043d\u043e \u0443\u043b\u0443\u0447\u0448\u0438\u0442\u044c \u0442\u043e\u0447\u043d\u043e\u0441\u0442\u044c, \u043f\u0440\u0438\u043c\u0435\u043d\u044f\u044f \u0434\u0440\u0443\u0433\u0438\u0435 \u043c\u043e\u0434\u0435\u043b\u0438 \u0438\u043b\u0438 \u0440\u0430\u0441\u0448\u0438\u0440\u044f\u044f \u043d\u0430\u0431\u043e\u0440 \u043f\u0440\u0438\u0437\u043d\u0430\u043a\u043e\u0432.",
            "metadata": {}
        },
        {
            "id": "ca33936e",
            "cell_type": "markdown",
            "source": "## \ud83c\udf32 \u041c\u043e\u0434\u0435\u043b\u044c Random Forest \u0438 \u0441\u0440\u0430\u0432\u043d\u0435\u043d\u0438\u0435 \u0442\u043e\u0447\u043d\u043e\u0441\u0442\u0438",
            "metadata": {}
        },
        {
            "id": "08485595",
            "cell_type": "code",
            "metadata": {},
            "execution_count": null,
            "source": "from sklearn.ensemble import RandomForestClassifier\n\nrf_model = RandomForestClassifier(n_estimators=100, random_state=42)\nrf_model.fit(X_train, y_train)\n\nrf_pred = rf_model.predict(X_test)\nrf_accuracy = accuracy_score(y_test, rf_pred)\n\nprint(\"\ud83c\udfaf Accuracy Random Forest:\", rf_accuracy)",
            "outputs": []
        },
        {
            "id": "894d234c",
            "cell_type": "markdown",
            "source": "## \ud83d\udd0d \u0412\u0438\u0437\u0443\u0430\u043b\u0438\u0437\u0430\u0446\u0438\u044f \u0432\u0430\u0436\u043d\u043e\u0441\u0442\u0438 \u043f\u0440\u0438\u0437\u043d\u0430\u043a\u043e\u0432 (Random Forest)",
            "metadata": {}
        },
        {
            "id": "63ff34fb",
            "cell_type": "code",
            "metadata": {},
            "execution_count": null,
            "source": "import seaborn as sns\n\nfeature_importances = pd.Series(rf_model.feature_importances_, index=X.columns)\nsns.barplot(x=feature_importances.values, y=feature_importances.index)\nplt.title(\"\ud83c\udf1f \u0412\u0430\u0436\u043d\u043e\u0441\u0442\u044c \u043f\u0440\u0438\u0437\u043d\u0430\u043a\u043e\u0432 (Random Forest)\")\nplt.show()",
            "outputs": []
        }
    ]
}
